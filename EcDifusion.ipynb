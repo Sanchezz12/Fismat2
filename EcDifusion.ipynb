{
  "nbformat": 4,
  "nbformat_minor": 0,
  "metadata": {
    "colab": {
      "provenance": [],
      "authorship_tag": "ABX9TyP91jUvUyAPB3e6S5RHsUhg",
      "include_colab_link": true
    },
    "kernelspec": {
      "name": "python3",
      "display_name": "Python 3"
    },
    "language_info": {
      "name": "python"
    }
  },
  "cells": [
    {
      "cell_type": "markdown",
      "metadata": {
        "id": "view-in-github",
        "colab_type": "text"
      },
      "source": [
        "<a href=\"https://colab.research.google.com/github/Sanchezz12/Fismat2/blob/main/EcDifusion.ipynb\" target=\"_parent\"><img src=\"https://colab.research.google.com/assets/colab-badge.svg\" alt=\"Open In Colab\"/></a>"
      ]
    },
    {
      "cell_type": "code",
      "execution_count": null,
      "metadata": {
        "id": "4U7x_kM4PdSY"
      },
      "outputs": [],
      "source": [
        "import numpy as np\n",
        "import matplotlib.pyplot as plt\n",
        "from matplotlib import animation\n",
        "from scipy.integrate import dblquad\n",
        "\n",
        "a = 1.0\n",
        "b = 0.5\n",
        "k = 4e-5\n",
        "max_n = 10\n",
        "max_m = 10\n",
        "T_initial = 700\n",
        "\n",
        "x = np.linspace(0, a, 100)\n",
        "y = np.linspace(0, b, 50)\n",
        "X, Y = np.meshgrid(x, y)\n",
        "\n",
        "def initial_condition(x, y):\n",
        "    x0 = a / 2\n",
        "    y0 = b / 2\n",
        "    return T_initial * np.exp(-4 * ((x - x0)**2 + (y - y0)**2))\n",
        "\n",
        "C_nm = np.zeros((max_n, max_m))\n",
        "for n in range(1, max_n + 1):\n",
        "    for m in range(1, max_m + 1):\n",
        "        func = lambda y, x: initial_condition(x, y) * np.sin(n * np.pi * x / a) * np.sin(m * np.pi * y / b)\n",
        "        C_nm[n-1, m-1], _ = dblquad(func, 0, a, lambda x: 0, lambda x: b)\n",
        "        C_nm[n-1, m-1] *= 4 / (a * b)\n",
        "\n",
        "def animate(i):\n",
        "    t = i * 0.1\n",
        "    Z = np.zeros_like(X)\n",
        "    for n in range(1, max_n + 1):\n",
        "        for m in range(1, max_m + 1):\n",
        "            Z += (C_nm[n-1, m-1] *\n",
        "                  np.sin(n * np.pi * X / a) *\n",
        "                  np.sin(m * np.pi * Y / b) *\n",
        "                  np.exp(-k * (n**2 / a**2 + m**2 / b**2) * np.pi**2 * t))\n",
        "    ax.clear()\n",
        "    ax.set_title(f\"Temperature at t={t:.2f}s\")\n",
        "    contour = ax.contourf(X, Y, Z, levels=100, cmap=\"hot\")\n",
        "    return contour.collections\n",
        "\n",
        "fig, ax = plt.subplots()\n",
        "frames = 100\n",
        "ani = animation.FuncAnimation(fig, animate, frames=frames, interval=100)\n",
        "\n",
        "plt.show()\n",
        "ani.save('heat_diffusion.gif', writer='imagemagick', fps=10)\n"
      ]
    }
  ]
}